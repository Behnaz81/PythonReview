{
  "nbformat": 4,
  "nbformat_minor": 0,
  "metadata": {
    "colab": {
      "provenance": [],
      "authorship_tag": "ABX9TyPZHR+INAYkzcdYxxIhJv1q",
      "include_colab_link": true
    },
    "kernelspec": {
      "name": "python3",
      "display_name": "Python 3"
    },
    "language_info": {
      "name": "python"
    }
  },
  "cells": [
    {
      "cell_type": "markdown",
      "metadata": {
        "id": "view-in-github",
        "colab_type": "text"
      },
      "source": [
        "<a href=\"https://colab.research.google.com/github/Behnaz81/PythonReview/blob/main/String_Manipulation.ipynb\" target=\"_parent\"><img src=\"https://colab.research.google.com/assets/colab-badge.svg\" alt=\"Open In Colab\"/></a>"
      ]
    },
    {
      "cell_type": "markdown",
      "source": [
        "**Ex 1.** Create a program that checks if a given string is a\n",
        "palindrome.\n"
      ],
      "metadata": {
        "id": "Iyj3Ux2Rwynt"
      }
    },
    {
      "cell_type": "code",
      "execution_count": 10,
      "metadata": {
        "colab": {
          "base_uri": "https://localhost:8080/"
        },
        "id": "IuFTBcftwqwX",
        "outputId": "2f402bbe-8c47-4828-fb99-9a85f55fb70c"
      },
      "outputs": [
        {
          "output_type": "stream",
          "name": "stdout",
          "text": [
            "hello isn't palindrome.\n"
          ]
        }
      ],
      "source": [
        "mystring = \"Hello\"\n",
        "mystring = mystring.lower()\n",
        "mystring_reversed = \"\".join(reversed(mystring))\n",
        "if mystring == mystring_reversed:\n",
        "  print(f\"{mystring} is palindrome.\")\n",
        "else:\n",
        "  print(f\"{mystring} isn't palindrome.\")"
      ]
    },
    {
      "cell_type": "markdown",
      "source": [
        "**Ex 2.** Write a function to count the number of vowels in a\n",
        "given string."
      ],
      "metadata": {
        "id": "vXHX2n6eyJ6V"
      }
    },
    {
      "cell_type": "code",
      "source": [
        "def vowel_count(mystring):\n",
        "  vowels = 0\n",
        "  for ch in mystring:\n",
        "    if ch.lower() in {\"o\", \"i\", \"e\", \"a\", \"u\"}:\n",
        "      vowels += 1\n",
        "  return vowels\n",
        "\n",
        "print(vowel_count(\"Hello\"))"
      ],
      "metadata": {
        "colab": {
          "base_uri": "https://localhost:8080/"
        },
        "id": "4yuPJIFxw7-7",
        "outputId": "49b203c6-b3a8-4101-e489-6739a1714c98"
      },
      "execution_count": 14,
      "outputs": [
        {
          "output_type": "stream",
          "name": "stdout",
          "text": [
            "2\n"
          ]
        }
      ]
    },
    {
      "cell_type": "markdown",
      "source": [
        "**Ex 3.** Given a list of words, concatenate them into a single\n",
        "string separated by spaces."
      ],
      "metadata": {
        "id": "ETZixTN9zKcQ"
      }
    },
    {
      "cell_type": "code",
      "source": [
        "words = [\"Hello\", \"my\", \"name\", \"is\", \"Behnaz.\"]\n",
        "sentence = \" \".join(words)\n",
        "print(sentence)"
      ],
      "metadata": {
        "colab": {
          "base_uri": "https://localhost:8080/"
        },
        "id": "ljKts3J9ymK7",
        "outputId": "608e5cc7-a88c-494e-da78-54cc4de8a52c"
      },
      "execution_count": 16,
      "outputs": [
        {
          "output_type": "stream",
          "name": "stdout",
          "text": [
            "Hello my name is Behnaz.\n"
          ]
        }
      ]
    },
    {
      "cell_type": "markdown",
      "source": [
        "**Ex 4.** Create a function to reverse a given string."
      ],
      "metadata": {
        "id": "ApUWejj9zo5f"
      }
    },
    {
      "cell_type": "code",
      "source": [
        "def reverse_string(in_string):\n",
        "  return in_string[::-1]\n",
        "print(reverse_string(\"Hello\"))"
      ],
      "metadata": {
        "colab": {
          "base_uri": "https://localhost:8080/"
        },
        "id": "QlYi19Yeza8T",
        "outputId": "7ef2e438-a0bc-4fcc-e655-8abe3e98b1ad"
      },
      "execution_count": 18,
      "outputs": [
        {
          "output_type": "stream",
          "name": "stdout",
          "text": [
            "olleH\n"
          ]
        }
      ]
    },
    {
      "cell_type": "markdown",
      "source": [
        "**Ex 5.** Write a program that takes a sentence as input and\n",
        "counts the number of words in it."
      ],
      "metadata": {
        "id": "WxlppufG0nEn"
      }
    },
    {
      "cell_type": "code",
      "source": [
        "def count_words(sentence):\n",
        "  return len(sentence.split())\n",
        "print(count_words(\"Hello my name is Behnaz.\"))"
      ],
      "metadata": {
        "colab": {
          "base_uri": "https://localhost:8080/"
        },
        "id": "x7_DR-Ekz6qj",
        "outputId": "66b23b7d-df0f-4b03-f2aa-6ae48b642546"
      },
      "execution_count": 20,
      "outputs": [
        {
          "output_type": "stream",
          "name": "stdout",
          "text": [
            "5\n"
          ]
        }
      ]
    },
    {
      "cell_type": "markdown",
      "source": [
        "**Ex 6.** Implement a function that checks if a given string is a\n",
        "pangram (contains all letters of the alphabet)."
      ],
      "metadata": {
        "id": "EuyfSCym1SQr"
      }
    },
    {
      "cell_type": "code",
      "source": [
        "import string\n",
        "\n",
        "def is_pangram(mystring):\n",
        "  alphabets = set(string.ascii_lowercase)\n",
        "  if alphabets.issubset(set(mystring)):\n",
        "    return True\n",
        "  return False\n",
        "\n",
        "mystr = \"qwertyuiopasdfghjklzxcvbnm\"\n",
        "if is_pangram(mystr):\n",
        "  print(f\"{mystr} is a pangram.\")\n",
        "else:\n",
        "  print(f\"{mystr} is not a pangram.\")"
      ],
      "metadata": {
        "colab": {
          "base_uri": "https://localhost:8080/"
        },
        "id": "-C8sXYlW1AYP",
        "outputId": "445fd66c-9085-4c8a-c45a-57fe1e1ed13a"
      },
      "execution_count": 27,
      "outputs": [
        {
          "output_type": "stream",
          "name": "stdout",
          "text": [
            "qwertyuiopasdfghjklzxcvbnm is a pangram.\n"
          ]
        }
      ]
    },
    {
      "cell_type": "markdown",
      "source": [
        "**Ex 7.** Given a string, write a function to remove all vowels from\n",
        "it and return the modified string."
      ],
      "metadata": {
        "id": "1LuYuQna2z5f"
      }
    },
    {
      "cell_type": "code",
      "source": [
        "def remove_vowels(mystring):\n",
        "  vowels = \"AEOUIaeoui\"\n",
        "  return \"\".join(ch for ch in mystring if ch not in vowels)\n",
        "\n",
        "print(remove_vowels(\"Hello\"))\n",
        "print(remove_vowels(\"Beautiful DAY\"))"
      ],
      "metadata": {
        "colab": {
          "base_uri": "https://localhost:8080/"
        },
        "id": "PjKc9cEr1i9T",
        "outputId": "9f394d5d-4e07-46bd-d595-d146a64284c0"
      },
      "execution_count": 34,
      "outputs": [
        {
          "output_type": "stream",
          "name": "stdout",
          "text": [
            "Hll\n",
            "Btfl DY\n"
          ]
        }
      ]
    },
    {
      "cell_type": "markdown",
      "source": [
        "**Ex 8.** Write a Python program to find the length of the longest\n",
        "word in a sentence."
      ],
      "metadata": {
        "id": "AboSnvzU4Q9X"
      }
    },
    {
      "cell_type": "code",
      "source": [
        "def longest_word(sentence):\n",
        "  words = sentence.split()\n",
        "  return len(max(words, key=len))\n",
        "print(longest_word(\"Hello my name is Behnaz\"))"
      ],
      "metadata": {
        "colab": {
          "base_uri": "https://localhost:8080/"
        },
        "id": "hj1ClkQM3YV3",
        "outputId": "946e18d3-6daa-4d94-ceaa-32a76bce7611"
      },
      "execution_count": 37,
      "outputs": [
        {
          "output_type": "stream",
          "name": "stdout",
          "text": [
            "6\n"
          ]
        }
      ]
    },
    {
      "cell_type": "markdown",
      "source": [
        "**Ex 9.** Create a function that takes a sentence as input and\n",
        "returns the sentence in reverse order."
      ],
      "metadata": {
        "id": "-OXLB1ml4-Xh"
      }
    },
    {
      "cell_type": "code",
      "source": [
        "def reverse_sentence(sentence):\n",
        "  words = sentence.split()\n",
        "  return \" \".join(reversed(words))\n",
        "print(reverse_sentence(\"Hello my name is Behnaz\"))"
      ],
      "metadata": {
        "colab": {
          "base_uri": "https://localhost:8080/"
        },
        "id": "V2YbJzSC4rqs",
        "outputId": "3d26d9a9-9445-4851-8124-824e0ef071e7"
      },
      "execution_count": 40,
      "outputs": [
        {
          "output_type": "stream",
          "name": "stdout",
          "text": [
            "Behnaz is name my Hello\n"
          ]
        }
      ]
    },
    {
      "cell_type": "markdown",
      "source": [
        "**Ex 10.** Given a list of names, count the number of names that\n",
        "start with a vowel."
      ],
      "metadata": {
        "id": "DHq6FAjl5mMM"
      }
    },
    {
      "cell_type": "code",
      "source": [
        "list_name = [\"Behnaz\", \"Ahmad\", \"Narges\", \"Aima\"]\n",
        "starting_vowels = 0\n",
        "for name in list_name:\n",
        "  if name.startswith((\"a\", \"e\", \"i\", \"o\", \"u\", \"A\", \"E\", \"I\", \"O\", \"U\")):\n",
        "    starting_vowels += 1\n",
        "print(f\"{starting_vowels} names start with vowels.\")"
      ],
      "metadata": {
        "colab": {
          "base_uri": "https://localhost:8080/"
        },
        "id": "e_qrOOgq5W6E",
        "outputId": "173db410-9635-4dc6-bf69-ac6bd08ee252"
      },
      "execution_count": 43,
      "outputs": [
        {
          "output_type": "stream",
          "name": "stdout",
          "text": [
            "2 names start with vowels.\n"
          ]
        }
      ]
    },
    {
      "cell_type": "markdown",
      "source": [
        "**Ex 11.** Write a function to remove all duplicate characters from a\n",
        "given string."
      ],
      "metadata": {
        "id": "HcGOiMsf6dn9"
      }
    },
    {
      "cell_type": "code",
      "source": [
        "def remove_duplicates(mystring):\n",
        "  seen = set()\n",
        "  return \"\".join([ch for ch in mystring if not(ch in seen or seen.add(ch))])\n",
        "print(remove_duplicates(\"Hello\"))"
      ],
      "metadata": {
        "colab": {
          "base_uri": "https://localhost:8080/"
        },
        "id": "uE6bOeB76MCR",
        "outputId": "7afe367a-47d0-45cc-a61f-f8879d7ce134"
      },
      "execution_count": 46,
      "outputs": [
        {
          "output_type": "stream",
          "name": "stdout",
          "text": [
            "Helo\n"
          ]
        }
      ]
    },
    {
      "cell_type": "markdown",
      "source": [
        "**Ex 12.** Implement a program that takes a sentence and a word as\n",
        "input and checks if the word is present in the sentence."
      ],
      "metadata": {
        "id": "vEVSn6vt7ice"
      }
    },
    {
      "cell_type": "code",
      "source": [
        "sentence = \"I love programming\"\n",
        "word = \"pro\"\n",
        "if word in sentence:\n",
        "  print(\"Found!\")\n",
        "else:\n",
        "  print(\"Not found!\")"
      ],
      "metadata": {
        "colab": {
          "base_uri": "https://localhost:8080/"
        },
        "id": "rWzG81596vrB",
        "outputId": "f9ce1ee3-0879-4600-ee0d-cfe3ed98a6a7"
      },
      "execution_count": 50,
      "outputs": [
        {
          "output_type": "stream",
          "name": "stdout",
          "text": [
            "Found!\n"
          ]
        }
      ]
    },
    {
      "cell_type": "code",
      "source": [],
      "metadata": {
        "id": "pmYFz8vd71Ne"
      },
      "execution_count": null,
      "outputs": []
    }
  ]
}