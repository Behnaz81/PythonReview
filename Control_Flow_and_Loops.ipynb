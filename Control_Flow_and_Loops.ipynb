{
  "nbformat": 4,
  "nbformat_minor": 0,
  "metadata": {
    "colab": {
      "provenance": [],
      "authorship_tag": "ABX9TyPVYnedwEnjdY1OpQDNpAij",
      "include_colab_link": true
    },
    "kernelspec": {
      "name": "python3",
      "display_name": "Python 3"
    },
    "language_info": {
      "name": "python"
    }
  },
  "cells": [
    {
      "cell_type": "markdown",
      "metadata": {
        "id": "view-in-github",
        "colab_type": "text"
      },
      "source": [
        "<a href=\"https://colab.research.google.com/github/Behnaz81/PythonReview/blob/main/Control_Flow_and_Loops.ipynb\" target=\"_parent\"><img src=\"https://colab.research.google.com/assets/colab-badge.svg\" alt=\"Open In Colab\"/></a>"
      ]
    },
    {
      "cell_type": "markdown",
      "source": [
        "**Ex 1.** Write a program that checks if a given number is\n",
        "positive, negative, or zero."
      ],
      "metadata": {
        "id": "JtfTm-RmNgZs"
      }
    },
    {
      "cell_type": "code",
      "source": [
        "num_input = int(input())\n",
        "if num_input > 0:\n",
        "  print(f\"{num_input} is postive!\")\n",
        "elif num_input < 0:\n",
        "  print(f\"{num_input} is negative!\")\n",
        "else:\n",
        "  print(f\"{num_input} is zero!\")"
      ],
      "metadata": {
        "colab": {
          "base_uri": "https://localhost:8080/"
        },
        "id": "e03YqRf8NnAN",
        "outputId": "f16f8c4c-12fb-49fe-c141-01a5c45d89b3"
      },
      "execution_count": null,
      "outputs": [
        {
          "output_type": "stream",
          "name": "stdout",
          "text": [
            "0\n",
            "0 is zero!\n"
          ]
        }
      ]
    },
    {
      "cell_type": "markdown",
      "source": [
        "**Ex 2.** Create a loop that prints the first 10 even numbers."
      ],
      "metadata": {
        "id": "POGUiNIGOBd7"
      }
    },
    {
      "cell_type": "code",
      "source": [
        "even_nums = 0\n",
        "num = 1\n",
        "while even_nums < 10:\n",
        "  if num % 2 == 0:\n",
        "    print(num)\n",
        "    even_nums += 1\n",
        "  num += 1"
      ],
      "metadata": {
        "colab": {
          "base_uri": "https://localhost:8080/"
        },
        "id": "Jx4rTOVnOFrQ",
        "outputId": "c9d8effc-5b19-4457-9e9a-f6c2fc3ba18f"
      },
      "execution_count": null,
      "outputs": [
        {
          "output_type": "stream",
          "name": "stdout",
          "text": [
            "2\n",
            "4\n",
            "6\n",
            "8\n",
            "10\n",
            "12\n",
            "14\n",
            "16\n",
            "18\n",
            "20\n"
          ]
        }
      ]
    },
    {
      "cell_type": "markdown",
      "source": [
        "**Ex 3.** Implement a program that finds the largest number in a list."
      ],
      "metadata": {
        "id": "KAJHeEzxPTMQ"
      }
    },
    {
      "cell_type": "code",
      "source": [
        "num_list = [1, 5, 2, 6, 2, 74, 23, 43, -2354]\n",
        "maximum = num_list[0]\n",
        "for n in num_list:\n",
        "  if n > maximum:\n",
        "    maximum = n\n",
        "\n",
        "print(f\"The largest number is {maximum}\")"
      ],
      "metadata": {
        "colab": {
          "base_uri": "https://localhost:8080/"
        },
        "id": "-sghLjjmPbNj",
        "outputId": "41494cd2-2c60-4912-a810-3b95d5c64f30"
      },
      "execution_count": null,
      "outputs": [
        {
          "output_type": "stream",
          "name": "stdout",
          "text": [
            "The largest number is 74\n"
          ]
        }
      ]
    },
    {
      "cell_type": "markdown",
      "source": [
        "**Ex 4.** Create a program that takes a year as input and checks if\n",
        "it is a leap year or not."
      ],
      "metadata": {
        "id": "L9al6NldP3KX"
      }
    },
    {
      "cell_type": "code",
      "source": [
        "year = int(input())\n",
        "if year % 4 == 0:\n",
        "  if year % 100 == 0:\n",
        "    if year % 400 == 0:\n",
        "      print(f\"{year} is a leap year.\")\n",
        "    else:\n",
        "      print(f\"{year} isn't a leap year\")\n",
        "  else:\n",
        "    print(f\"{year} is a leap year.\")\n",
        "else:\n",
        "  print(f\"{year} isn't a leap year.\")"
      ],
      "metadata": {
        "colab": {
          "base_uri": "https://localhost:8080/"
        },
        "id": "0tEsJvQvQJbS",
        "outputId": "1c2c8b60-0fda-4e6e-e520-9d4f9db89e7d"
      },
      "execution_count": null,
      "outputs": [
        {
          "output_type": "stream",
          "name": "stdout",
          "text": [
            "2000\n",
            "2000 is a leap year.\n"
          ]
        }
      ]
    },
    {
      "cell_type": "markdown",
      "source": [
        "**Ex 5.** Given a list of integers, find all the even numbers and\n",
        "store them in a new list."
      ],
      "metadata": {
        "id": "pFvYWAMJROH3"
      }
    },
    {
      "cell_type": "code",
      "source": [
        "num_list = [1, 5, 2, 6, 2, 74, 23, 43, -2354]\n",
        "new_list = []\n",
        "for n in num_list:\n",
        "  if n % 2 == 0:\n",
        "    new_list.append(n)\n",
        "print(new_list)"
      ],
      "metadata": {
        "colab": {
          "base_uri": "https://localhost:8080/"
        },
        "id": "FASf_2pPRXdP",
        "outputId": "0464fec7-cc3f-43db-cd0f-948ba2968703"
      },
      "execution_count": null,
      "outputs": [
        {
          "output_type": "stream",
          "name": "stdout",
          "text": [
            "[2, 6, 2, 74, -2354]\n"
          ]
        }
      ]
    },
    {
      "cell_type": "markdown",
      "source": [
        "**Ex 6.** Write a Python program to check if a given number is a\n",
        "prime number."
      ],
      "metadata": {
        "id": "ZanCBWxSLWPB"
      }
    },
    {
      "cell_type": "code",
      "execution_count": null,
      "metadata": {
        "colab": {
          "base_uri": "https://localhost:8080/"
        },
        "id": "-ks4HFHYKu_E",
        "outputId": "4cb01ce9-d464-41da-ac59-ce34c921658f"
      },
      "outputs": [
        {
          "output_type": "stream",
          "name": "stdout",
          "text": [
            "20\n",
            "20 isn't a prime number.\n"
          ]
        }
      ],
      "source": [
        "num_input = int(input())\n",
        "is_prime = True\n",
        "for i in range(2, num_input//2):\n",
        "  if num_input % i == 0:\n",
        "    is_prime = False\n",
        "    break\n",
        "if is_prime:\n",
        "  print(f\"{num_input} is a prime number.\")\n",
        "else:\n",
        "  print(f\"{num_input} isn't a prime number.\")"
      ]
    },
    {
      "cell_type": "markdown",
      "source": [
        "**Ex 7.** Create a program that generates the Fibonacci sequence\n",
        "up to a given number of terms."
      ],
      "metadata": {
        "id": "wdRaviMRRuNc"
      }
    },
    {
      "cell_type": "code",
      "source": [
        "num_of_terms = int(input())\n",
        "a0 = 1\n",
        "a1 = 1\n",
        "print(a0)\n",
        "print(a1)\n",
        "for i in range(num_of_terms - 2):\n",
        "  a2 = a0 + a1\n",
        "  a0 = a1\n",
        "  a1 = a2\n",
        "  print(a1)"
      ],
      "metadata": {
        "colab": {
          "base_uri": "https://localhost:8080/"
        },
        "id": "AxEDKU00MPMQ",
        "outputId": "b2b2a804-f285-4f39-9542-889d6c2618cb"
      },
      "execution_count": null,
      "outputs": [
        {
          "output_type": "stream",
          "name": "stdout",
          "text": [
            "4\n",
            "1\n",
            "1\n",
            "2\n",
            "3\n"
          ]
        }
      ]
    },
    {
      "cell_type": "markdown",
      "source": [
        "**Ex 8.** Given a list of names, print all names starting with the\n",
        "letter 'A'."
      ],
      "metadata": {
        "id": "0-nnjidNSaWK"
      }
    },
    {
      "cell_type": "code",
      "source": [
        "names_list = [\"Ali\", \"Ahmad\", \"Fateme\", \"Melika\", \"Zahra\", \"Hana\", \"Salehe\", \"Behnaz\", \"Sima\", \"Yegane\"]\n",
        "for name in names_list:\n",
        "  if name.startswith(\"A\"):\n",
        "    print(name)"
      ],
      "metadata": {
        "colab": {
          "base_uri": "https://localhost:8080/"
        },
        "id": "qJkioyKCSNGe",
        "outputId": "38700b80-2652-4056-c1c7-d1d7c3d38156"
      },
      "execution_count": null,
      "outputs": [
        {
          "output_type": "stream",
          "name": "stdout",
          "text": [
            "Ali\n",
            "Ahmad\n"
          ]
        }
      ]
    },
    {
      "cell_type": "markdown",
      "source": [
        "**Ex 9.** Implement a program that prints the multiplication table\n",
        "of a given number."
      ],
      "metadata": {
        "id": "zlJdkD3CTd8A"
      }
    },
    {
      "cell_type": "code",
      "source": [
        "num = int(input())\n",
        "for i in range(1, 11):\n",
        "  mult = num * i\n",
        "  print(f\"{num} * {i} = {mult}\")"
      ],
      "metadata": {
        "colab": {
          "base_uri": "https://localhost:8080/"
        },
        "id": "3FR-9XPrTUun",
        "outputId": "afe876d8-cae0-4905-81ae-ab75d6de2c57"
      },
      "execution_count": null,
      "outputs": [
        {
          "output_type": "stream",
          "name": "stdout",
          "text": [
            "9\n",
            "9 * 1 = 9\n",
            "9 * 2 = 18\n",
            "9 * 3 = 27\n",
            "9 * 4 = 36\n",
            "9 * 5 = 45\n",
            "9 * 6 = 54\n",
            "9 * 7 = 63\n",
            "9 * 8 = 72\n",
            "9 * 9 = 81\n",
            "9 * 10 = 90\n"
          ]
        }
      ]
    },
    {
      "cell_type": "markdown",
      "source": [
        "**Ex 10.** Write a program that calculates the factorial of a given\n",
        "number."
      ],
      "metadata": {
        "id": "FHjS3sbjUB8f"
      }
    },
    {
      "cell_type": "code",
      "source": [
        "num = int(input())\n",
        "fact = 1\n",
        "for i in range(1, num + 1):\n",
        "  fact *= i\n",
        "print(f\"{num}! = {fact}\")"
      ],
      "metadata": {
        "colab": {
          "base_uri": "https://localhost:8080/"
        },
        "id": "whRYiIukT7tn",
        "outputId": "b73ca5fb-9647-4946-e24f-122ab9a2b293"
      },
      "execution_count": null,
      "outputs": [
        {
          "output_type": "stream",
          "name": "stdout",
          "text": [
            "5\n",
            "5! = 120\n"
          ]
        }
      ]
    },
    {
      "cell_type": "markdown",
      "source": [
        "**Ex 11.** Create a loop that prints all prime numbers between 1 and\n",
        "50."
      ],
      "metadata": {
        "id": "GTN8NakcUdNs"
      }
    },
    {
      "cell_type": "code",
      "source": [
        "for num in range(2, 51):\n",
        "  is_prime = False\n",
        "  for n in range(2, num // 2):\n",
        "    if num % n == 0:\n",
        "      is_prime = True\n",
        "  if not is_prime:\n",
        "    print(num)"
      ],
      "metadata": {
        "colab": {
          "base_uri": "https://localhost:8080/"
        },
        "id": "Z8MtKktPURs_",
        "outputId": "6acf3dc1-5188-4474-b946-86a0ed9428ba"
      },
      "execution_count": null,
      "outputs": [
        {
          "output_type": "stream",
          "name": "stdout",
          "text": [
            "2\n",
            "3\n",
            "4\n",
            "5\n",
            "7\n",
            "11\n",
            "13\n",
            "17\n",
            "19\n",
            "23\n",
            "29\n",
            "31\n",
            "37\n",
            "41\n",
            "43\n",
            "47\n"
          ]
        }
      ]
    },
    {
      "cell_type": "markdown",
      "source": [
        "**Ex 12.** Given a list of words, count the number of words with\n",
        "more than five characters."
      ],
      "metadata": {
        "id": "o1eFzYxrVT1f"
      }
    },
    {
      "cell_type": "code",
      "source": [
        "names_list = [\"Ali\", \"Ahmad\", \"Fateme\", \"Melika\", \"Zahra\", \"Hana\", \"Salehe\", \"Behnaz\", \"Sima\", \"Yegane\"]\n",
        "count_of_more_that_five_chars = 0\n",
        "for n in names_list:\n",
        "  if len(n) > 5:\n",
        "    count_of_more_that_five_chars += 1\n",
        "print(f\"There are {count_of_more_that_five_chars} words in the list.\")"
      ],
      "metadata": {
        "colab": {
          "base_uri": "https://localhost:8080/"
        },
        "id": "ABXRvyA_VNKI",
        "outputId": "6fe68bd1-63fa-40d7-ac92-57322e5b77f5"
      },
      "execution_count": null,
      "outputs": [
        {
          "output_type": "stream",
          "name": "stdout",
          "text": [
            "There are 5 words in the list.\n"
          ]
        }
      ]
    },
    {
      "cell_type": "markdown",
      "source": [
        "**Ex 13.** Calculate the sum of digits of a given number."
      ],
      "metadata": {
        "id": "hl3ATDLqqeVg"
      }
    },
    {
      "cell_type": "code",
      "source": [
        "num = int(input())\n",
        "sum_digits = 0\n",
        "while num > 0:\n",
        "  sum_digits += num % 10\n",
        "  num //= 10\n",
        "print(f\"sum of digits: {sum_digits}\")"
      ],
      "metadata": {
        "colab": {
          "base_uri": "https://localhost:8080/"
        },
        "id": "RLGr68s2qWSJ",
        "outputId": "2b60b884-649a-4473-d327-accd180ca9ef"
      },
      "execution_count": null,
      "outputs": [
        {
          "output_type": "stream",
          "name": "stdout",
          "text": [
            "453\n",
            "sum of digits: 12\n"
          ]
        }
      ]
    },
    {
      "cell_type": "code",
      "source": [],
      "metadata": {
        "id": "89017QZyq0Di"
      },
      "execution_count": null,
      "outputs": []
    }
  ]
}