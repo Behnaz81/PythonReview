{
  "nbformat": 4,
  "nbformat_minor": 0,
  "metadata": {
    "colab": {
      "provenance": [],
      "authorship_tag": "ABX9TyNU2pvKPcz2t2xripuRoCiy",
      "include_colab_link": true
    },
    "kernelspec": {
      "name": "python3",
      "display_name": "Python 3"
    },
    "language_info": {
      "name": "python"
    }
  },
  "cells": [
    {
      "cell_type": "markdown",
      "metadata": {
        "id": "view-in-github",
        "colab_type": "text"
      },
      "source": [
        "<a href=\"https://colab.research.google.com/github/Behnaz81/PythonReview/blob/main/Functions.ipynb\" target=\"_parent\"><img src=\"https://colab.research.google.com/assets/colab-badge.svg\" alt=\"Open In Colab\"/></a>"
      ]
    },
    {
      "cell_type": "markdown",
      "source": [
        "**Ex 1.** Write a function to calculate the area of a circle\n",
        "given its radius."
      ],
      "metadata": {
        "id": "kFSSaQ6wO2da"
      }
    },
    {
      "cell_type": "code",
      "execution_count": null,
      "metadata": {
        "id": "KAF5RD6vOh5n",
        "colab": {
          "base_uri": "https://localhost:8080/"
        },
        "outputId": "801597f5-b0c4-498e-f2c4-79b4bc0872fe"
      },
      "outputs": [
        {
          "output_type": "stream",
          "name": "stdout",
          "text": [
            "3.141592653589793\n"
          ]
        }
      ],
      "source": [
        "import math\n",
        "\n",
        "def calculate_area_circle(r):\n",
        "  return r ** 2 * math.pi\n",
        "\n",
        "print(calculate_area_circle(1))"
      ]
    },
    {
      "cell_type": "markdown",
      "source": [
        "**Ex 2.** Create a function to check if a number is prime."
      ],
      "metadata": {
        "id": "pSjmuky0ZrPh"
      }
    },
    {
      "cell_type": "code",
      "source": [
        "def is_prime(num):\n",
        "  for i in range(2, num // 2):\n",
        "    if num % i == 0:\n",
        "      return False\n",
        "  return True\n",
        "\n",
        "print(is_prime(17))\n",
        "print(is_prime(15))"
      ],
      "metadata": {
        "colab": {
          "base_uri": "https://localhost:8080/"
        },
        "id": "eokz85P0ZFgd",
        "outputId": "620fc342-f384-4a79-e02f-afdad58ed319"
      },
      "execution_count": null,
      "outputs": [
        {
          "output_type": "stream",
          "name": "stdout",
          "text": [
            "True\n",
            "False\n"
          ]
        }
      ]
    },
    {
      "cell_type": "markdown",
      "source": [
        "**Ex 3.** Implement a function that reverses a given string."
      ],
      "metadata": {
        "id": "XdSpwXyMaUkD"
      }
    },
    {
      "cell_type": "code",
      "source": [
        "def reverse_string(my_string):\n",
        "  reversed = \"\"\n",
        "  for i in range(len(my_string) - 1, -1, -1):\n",
        "    reversed += my_string[i]\n",
        "  return reversed\n",
        "\n",
        "print(reverse_string(\"Hello\"))"
      ],
      "metadata": {
        "colab": {
          "base_uri": "https://localhost:8080/"
        },
        "id": "ojPS_UfIaPk8",
        "outputId": "af473cfb-cac9-4ef7-8c34-627ab6dee134"
      },
      "execution_count": null,
      "outputs": [
        {
          "output_type": "stream",
          "name": "stdout",
          "text": [
            "olleH\n"
          ]
        }
      ]
    },
    {
      "cell_type": "markdown",
      "source": [
        "**Ex 4.** Given a list of numbers, create a function to find the sum\n",
        "of all positive numbers."
      ],
      "metadata": {
        "id": "rbb6SLCgbQMt"
      }
    },
    {
      "cell_type": "code",
      "source": [
        "def sum_of_positives(list_numbers):\n",
        "  summation = 0\n",
        "  for i in list_numbers:\n",
        "    if i > 0:\n",
        "      summation += i\n",
        "  return summation\n",
        "\n",
        "list_nums = [1, 45 , -2, 5]\n",
        "print(sum_of_positives(list_nums))"
      ],
      "metadata": {
        "colab": {
          "base_uri": "https://localhost:8080/"
        },
        "id": "NeF0S_edawDu",
        "outputId": "d9b21118-f203-4ffc-9dc3-1679544d8bee"
      },
      "execution_count": null,
      "outputs": [
        {
          "output_type": "stream",
          "name": "stdout",
          "text": [
            "51\n"
          ]
        }
      ]
    },
    {
      "cell_type": "markdown",
      "source": [
        "**Ex 5.** Write a Python function to check if a given string is a\n",
        "palindrome."
      ],
      "metadata": {
        "id": "f3TXqgLLfDQY"
      }
    },
    {
      "cell_type": "code",
      "source": [
        "def is_palindrome(my_string):\n",
        "  reversed = reverse_string(my_string)\n",
        "  if reversed == my_string:\n",
        "    return True\n",
        "  return False\n",
        "\n",
        "print(is_palindrome(\"MkM\"))\n",
        "print(is_palindrome(\"ool\"))"
      ],
      "metadata": {
        "colab": {
          "base_uri": "https://localhost:8080/"
        },
        "id": "kA6-adIVe8uH",
        "outputId": "539d2dc4-e1a8-4b6a-ccb6-33d50317ede7"
      },
      "execution_count": null,
      "outputs": [
        {
          "output_type": "stream",
          "name": "stdout",
          "text": [
            "True\n",
            "False\n"
          ]
        }
      ]
    },
    {
      "cell_type": "markdown",
      "source": [
        "**Ex 6.** Implement a function that returns the factorial of a given\n",
        "number using recursion."
      ],
      "metadata": {
        "id": "wOH7MSqHgIJc"
      }
    },
    {
      "cell_type": "code",
      "source": [
        "def fact(num):\n",
        "  if num == 0:\n",
        "    return 1\n",
        "  else:\n",
        "    return num * fact(num - 1)\n",
        "print(fact(5))"
      ],
      "metadata": {
        "colab": {
          "base_uri": "https://localhost:8080/"
        },
        "id": "TZN_PCgGfeYm",
        "outputId": "d3132769-478a-48e5-beae-e7c2be6ab007"
      },
      "execution_count": null,
      "outputs": [
        {
          "output_type": "stream",
          "name": "stdout",
          "text": [
            "120\n"
          ]
        }
      ]
    },
    {
      "cell_type": "markdown",
      "source": [
        "**Ex 7.** Create a function to find the square of each element in a\n",
        "given list."
      ],
      "metadata": {
        "id": "zUZvUIISgbAM"
      }
    },
    {
      "cell_type": "code",
      "source": [
        "def squared_list(my_list):\n",
        "  returned_list = []\n",
        "  for i in my_list:\n",
        "    returned_list.append(i ** 2)\n",
        "  return returned_list\n",
        "print(squared_list([2, 4, 12]))"
      ],
      "metadata": {
        "colab": {
          "base_uri": "https://localhost:8080/"
        },
        "id": "zF3RQqBUgVkD",
        "outputId": "1ec71afa-532d-424c-8ee6-5c9987959aa4"
      },
      "execution_count": null,
      "outputs": [
        {
          "output_type": "stream",
          "name": "stdout",
          "text": [
            "[4, 16, 144]\n"
          ]
        }
      ]
    },
    {
      "cell_type": "markdown",
      "source": [
        "**Ex 8.** Write a function to check if a number is even or odd and\n",
        "return \"Even\" or \"Odd\" accordingly."
      ],
      "metadata": {
        "id": "0zPIUysVhL8-"
      }
    },
    {
      "cell_type": "code",
      "source": [
        "def is_even_odd(num):\n",
        "  if num % 2 == 0:\n",
        "    return \"Even\"\n",
        "  else:\n",
        "    return \"Odd\"\n",
        "\n",
        "print(is_even_odd(20))\n",
        "print(is_even_odd(33))"
      ],
      "metadata": {
        "colab": {
          "base_uri": "https://localhost:8080/"
        },
        "id": "cgGOWeEng-oZ",
        "outputId": "0d14b26f-a8d2-4cda-9ede-879edd7ab02a"
      },
      "execution_count": null,
      "outputs": [
        {
          "output_type": "stream",
          "name": "stdout",
          "text": [
            "Even\n",
            "Odd\n"
          ]
        }
      ]
    },
    {
      "cell_type": "markdown",
      "source": [
        "**Ex 9.** Calculate the area of a triangle given its base and height\n",
        "using a function."
      ],
      "metadata": {
        "id": "XtbURW3YhnBV"
      }
    },
    {
      "cell_type": "code",
      "source": [
        "def calculate_area_triangle(base, height):\n",
        "  return 0.5 * base * height\n",
        "print(calculate_area_triangle(4, 3))"
      ],
      "metadata": {
        "colab": {
          "base_uri": "https://localhost:8080/"
        },
        "id": "uEXZ4_64hiKS",
        "outputId": "255ba180-1883-4f29-bf41-5d0e19e30f40"
      },
      "execution_count": null,
      "outputs": [
        {
          "output_type": "stream",
          "name": "stdout",
          "text": [
            "6.0\n"
          ]
        }
      ]
    },
    {
      "cell_type": "markdown",
      "source": [
        "**Ex 10.** Create a function that takes a list of strings and returnsthe list sorted alphabetically."
      ],
      "metadata": {
        "id": "29xkIehoh_Tp"
      }
    },
    {
      "cell_type": "code",
      "source": [
        "def sort_alphabetically(string_list):\n",
        "  return sorted(string_list, key=str.lower)\n",
        "\n",
        "my_list = [\"Hello\", \"ahmad\", \"Behnaz\", \"Sima\"]\n",
        "sort_alphabetically(my_list)"
      ],
      "metadata": {
        "id": "Jlu3uFG2h8EU",
        "colab": {
          "base_uri": "https://localhost:8080/"
        },
        "outputId": "c0117476-19ee-46d3-b5f0-3aedf12f153e"
      },
      "execution_count": null,
      "outputs": [
        {
          "output_type": "execute_result",
          "data": {
            "text/plain": [
              "['ahmad', 'Behnaz', 'Hello', 'Sima']"
            ]
          },
          "metadata": {},
          "execution_count": 11
        }
      ]
    },
    {
      "cell_type": "markdown",
      "source": [
        "**Ex 11.** Write a function that takes two lists and returns their\n",
        "intersection (common elements)."
      ],
      "metadata": {
        "id": "4ceUHkuOmE1D"
      }
    },
    {
      "cell_type": "code",
      "source": [
        "def intersection(list_one, list_two):\n",
        "  intersect = []\n",
        "  for element in list_one:\n",
        "    if element in list_two:\n",
        "      intersect.append(element)\n",
        "  return intersect\n",
        "\n",
        "list1 = [\"Hi\", \"2\", \"42\", \"Gift\"]\n",
        "list2 = [\"2\", \"Hello\", \"jeff\", \"Hi\"]\n",
        "print(intersection(list1, list2))"
      ],
      "metadata": {
        "colab": {
          "base_uri": "https://localhost:8080/"
        },
        "id": "ZAMZWo-HkuOz",
        "outputId": "6314c743-ae4d-45ed-9b1e-a579db0cf905"
      },
      "execution_count": null,
      "outputs": [
        {
          "output_type": "stream",
          "name": "stdout",
          "text": [
            "['Hi', '2']\n"
          ]
        }
      ]
    },
    {
      "cell_type": "markdown",
      "source": [
        "**Ex 12.** Implement a function to check if a given year is a leap\n",
        "year or not."
      ],
      "metadata": {
        "id": "k92tYCk9m8Ps"
      }
    },
    {
      "cell_type": "code",
      "source": [
        "def is_leap(year):\n",
        "  if year % 4 == 0:\n",
        "    if year % 100 == 0:\n",
        "      if year % 400 == 0:\n",
        "        return True\n",
        "      else:\n",
        "        return False\n",
        "    else:\n",
        "      return True\n",
        "  else:\n",
        "    return False"
      ],
      "metadata": {
        "id": "CBKvjSZjmnMO"
      },
      "execution_count": null,
      "outputs": []
    },
    {
      "cell_type": "markdown",
      "source": [
        "**Ex 13.** Create a function that takes a number as input and prints\n",
        "its multiplication table."
      ],
      "metadata": {
        "id": "-qY6-pd2nrpy"
      }
    },
    {
      "cell_type": "code",
      "source": [
        "def print_mult_table(num):\n",
        "  for i in range(11):\n",
        "    print(f\"{num} * {i} = {num*i}\")\n",
        "\n",
        "print_mult_table(4)"
      ],
      "metadata": {
        "colab": {
          "base_uri": "https://localhost:8080/"
        },
        "id": "KOJqAemAntJ6",
        "outputId": "7c23265c-1ad5-4661-f921-d1c0be04a05b"
      },
      "execution_count": null,
      "outputs": [
        {
          "output_type": "stream",
          "name": "stdout",
          "text": [
            "4 * 0 = 0\n",
            "4 * 1 = 4\n",
            "4 * 2 = 8\n",
            "4 * 3 = 12\n",
            "4 * 4 = 16\n",
            "4 * 5 = 20\n",
            "4 * 6 = 24\n",
            "4 * 7 = 28\n",
            "4 * 8 = 32\n",
            "4 * 9 = 36\n",
            "4 * 10 = 40\n"
          ]
        }
      ]
    }
  ]
}