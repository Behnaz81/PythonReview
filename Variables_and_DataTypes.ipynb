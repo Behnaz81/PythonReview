{
  "nbformat": 4,
  "nbformat_minor": 0,
  "metadata": {
    "colab": {
      "provenance": [],
      "authorship_tag": "ABX9TyOd2vUYo9R4dGMjP43ncyK7",
      "include_colab_link": true
    },
    "kernelspec": {
      "name": "python3",
      "display_name": "Python 3"
    },
    "language_info": {
      "name": "python"
    }
  },
  "cells": [
    {
      "cell_type": "markdown",
      "metadata": {
        "id": "view-in-github",
        "colab_type": "text"
      },
      "source": [
        "<a href=\"https://colab.research.google.com/github/Behnaz81/PythonReview/blob/main/Variables_and_DataTypes.ipynb\" target=\"_parent\"><img src=\"https://colab.research.google.com/assets/colab-badge.svg\" alt=\"Open In Colab\"/></a>"
      ]
    },
    {
      "cell_type": "markdown",
      "source": [
        "Use `type()` function to get the type."
      ],
      "metadata": {
        "id": "dTCWmv-ddtvw"
      }
    },
    {
      "cell_type": "code",
      "execution_count": null,
      "metadata": {
        "colab": {
          "base_uri": "https://localhost:8080/"
        },
        "id": "2jfgScdDdpKz",
        "outputId": "0438e4f9-ce62-446f-d8be-b6a0186e5ab0"
      },
      "outputs": [
        {
          "output_type": "stream",
          "name": "stdout",
          "text": [
            "<class 'int'>\n"
          ]
        }
      ],
      "source": [
        "a = 12\n",
        "print(type(a))"
      ]
    },
    {
      "cell_type": "markdown",
      "source": [
        "You can use `global` keyword to show that a variable is used in global."
      ],
      "metadata": {
        "id": "px8J-AH6gUnx"
      }
    },
    {
      "cell_type": "code",
      "source": [
        "x = \"no\"\n",
        "def myfunc():\n",
        "  global x\n",
        "  x = \"yes\"\n",
        "myfunc()\n",
        "print(x)"
      ],
      "metadata": {
        "colab": {
          "base_uri": "https://localhost:8080/"
        },
        "id": "NeO3QIPOgMXK",
        "outputId": "094cb7b0-b5a9-47c5-ed53-74c7cfc4f6c8"
      },
      "execution_count": null,
      "outputs": [
        {
          "output_type": "stream",
          "name": "stdout",
          "text": [
            "yes\n"
          ]
        }
      ]
    },
    {
      "cell_type": "markdown",
      "source": [
        "For a very long integer you may get a `ValueError` when converting to string. If you want to print an integer beyonf the limitation you ca use the `sys.set_int_max_str_digits()` to increase the limit."
      ],
      "metadata": {
        "id": "7nFIuZOviQh9"
      }
    },
    {
      "cell_type": "code",
      "source": [
        "123 ** 10000"
      ],
      "metadata": {
        "colab": {
          "base_uri": "https://localhost:8080/",
          "height": 370
        },
        "id": "UqoZOUFggh6u",
        "outputId": "af23a5a3-09b8-4c6e-f633-44bd1dde86cb"
      },
      "execution_count": null,
      "outputs": [
        {
          "output_type": "error",
          "ename": "ValueError",
          "evalue": "Exceeds the limit (4300 digits) for integer string conversion; use sys.set_int_max_str_digits() to increase the limit",
          "traceback": [
            "\u001b[0;31m---------------------------------------------------------------------------\u001b[0m",
            "\u001b[0;31mValueError\u001b[0m                                Traceback (most recent call last)",
            "\u001b[0;32m/usr/local/lib/python3.12/dist-packages/IPython/core/formatters.py\u001b[0m in \u001b[0;36m__call__\u001b[0;34m(self, obj)\u001b[0m\n\u001b[1;32m    700\u001b[0m                 \u001b[0mtype_pprinters\u001b[0m\u001b[0;34m=\u001b[0m\u001b[0mself\u001b[0m\u001b[0;34m.\u001b[0m\u001b[0mtype_printers\u001b[0m\u001b[0;34m,\u001b[0m\u001b[0;34m\u001b[0m\u001b[0;34m\u001b[0m\u001b[0m\n\u001b[1;32m    701\u001b[0m                 deferred_pprinters=self.deferred_printers)\n\u001b[0;32m--> 702\u001b[0;31m             \u001b[0mprinter\u001b[0m\u001b[0;34m.\u001b[0m\u001b[0mpretty\u001b[0m\u001b[0;34m(\u001b[0m\u001b[0mobj\u001b[0m\u001b[0;34m)\u001b[0m\u001b[0;34m\u001b[0m\u001b[0;34m\u001b[0m\u001b[0m\n\u001b[0m\u001b[1;32m    703\u001b[0m             \u001b[0mprinter\u001b[0m\u001b[0;34m.\u001b[0m\u001b[0mflush\u001b[0m\u001b[0;34m(\u001b[0m\u001b[0;34m)\u001b[0m\u001b[0;34m\u001b[0m\u001b[0;34m\u001b[0m\u001b[0m\n\u001b[1;32m    704\u001b[0m             \u001b[0;32mreturn\u001b[0m \u001b[0mstream\u001b[0m\u001b[0;34m.\u001b[0m\u001b[0mgetvalue\u001b[0m\u001b[0;34m(\u001b[0m\u001b[0;34m)\u001b[0m\u001b[0;34m\u001b[0m\u001b[0;34m\u001b[0m\u001b[0m\n",
            "\u001b[0;32m/usr/local/lib/python3.12/dist-packages/IPython/lib/pretty.py\u001b[0m in \u001b[0;36mpretty\u001b[0;34m(self, obj)\u001b[0m\n\u001b[1;32m    375\u001b[0m                 \u001b[0;32mif\u001b[0m \u001b[0mcls\u001b[0m \u001b[0;32min\u001b[0m \u001b[0mself\u001b[0m\u001b[0;34m.\u001b[0m\u001b[0mtype_pprinters\u001b[0m\u001b[0;34m:\u001b[0m\u001b[0;34m\u001b[0m\u001b[0;34m\u001b[0m\u001b[0m\n\u001b[1;32m    376\u001b[0m                     \u001b[0;31m# printer registered in self.type_pprinters\u001b[0m\u001b[0;34m\u001b[0m\u001b[0;34m\u001b[0m\u001b[0m\n\u001b[0;32m--> 377\u001b[0;31m                     \u001b[0;32mreturn\u001b[0m \u001b[0mself\u001b[0m\u001b[0;34m.\u001b[0m\u001b[0mtype_pprinters\u001b[0m\u001b[0;34m[\u001b[0m\u001b[0mcls\u001b[0m\u001b[0;34m]\u001b[0m\u001b[0;34m(\u001b[0m\u001b[0mobj\u001b[0m\u001b[0;34m,\u001b[0m \u001b[0mself\u001b[0m\u001b[0;34m,\u001b[0m \u001b[0mcycle\u001b[0m\u001b[0;34m)\u001b[0m\u001b[0;34m\u001b[0m\u001b[0;34m\u001b[0m\u001b[0m\n\u001b[0m\u001b[1;32m    378\u001b[0m                 \u001b[0;32melse\u001b[0m\u001b[0;34m:\u001b[0m\u001b[0;34m\u001b[0m\u001b[0;34m\u001b[0m\u001b[0m\n\u001b[1;32m    379\u001b[0m                     \u001b[0;31m# deferred printer\u001b[0m\u001b[0;34m\u001b[0m\u001b[0;34m\u001b[0m\u001b[0m\n",
            "\u001b[0;32m/usr/local/lib/python3.12/dist-packages/IPython/lib/pretty.py\u001b[0m in \u001b[0;36m_repr_pprint\u001b[0;34m(obj, p, cycle)\u001b[0m\n\u001b[1;32m    698\u001b[0m     \u001b[0;34m\"\"\"A pprint that just redirects to the normal repr function.\"\"\"\u001b[0m\u001b[0;34m\u001b[0m\u001b[0;34m\u001b[0m\u001b[0m\n\u001b[1;32m    699\u001b[0m     \u001b[0;31m# Find newlines and replace them with p.break_()\u001b[0m\u001b[0;34m\u001b[0m\u001b[0;34m\u001b[0m\u001b[0m\n\u001b[0;32m--> 700\u001b[0;31m     \u001b[0moutput\u001b[0m \u001b[0;34m=\u001b[0m \u001b[0mrepr\u001b[0m\u001b[0;34m(\u001b[0m\u001b[0mobj\u001b[0m\u001b[0;34m)\u001b[0m\u001b[0;34m\u001b[0m\u001b[0;34m\u001b[0m\u001b[0m\n\u001b[0m\u001b[1;32m    701\u001b[0m     \u001b[0mlines\u001b[0m \u001b[0;34m=\u001b[0m \u001b[0moutput\u001b[0m\u001b[0;34m.\u001b[0m\u001b[0msplitlines\u001b[0m\u001b[0;34m(\u001b[0m\u001b[0;34m)\u001b[0m\u001b[0;34m\u001b[0m\u001b[0;34m\u001b[0m\u001b[0m\n\u001b[1;32m    702\u001b[0m     \u001b[0;32mwith\u001b[0m \u001b[0mp\u001b[0m\u001b[0;34m.\u001b[0m\u001b[0mgroup\u001b[0m\u001b[0;34m(\u001b[0m\u001b[0;34m)\u001b[0m\u001b[0;34m:\u001b[0m\u001b[0;34m\u001b[0m\u001b[0;34m\u001b[0m\u001b[0m\n",
            "\u001b[0;31mValueError\u001b[0m: Exceeds the limit (4300 digits) for integer string conversion; use sys.set_int_max_str_digits() to increase the limit"
          ]
        }
      ]
    },
    {
      "cell_type": "markdown",
      "source": [
        "When working with long integers you can use underscore to make literals more readable."
      ],
      "metadata": {
        "id": "_ChEoO3Mi23N"
      }
    },
    {
      "cell_type": "code",
      "source": [
        "1_000_000"
      ],
      "metadata": {
        "colab": {
          "base_uri": "https://localhost:8080/"
        },
        "id": "2bO1AmxpiwMa",
        "outputId": "1a6bf53c-ae1f-448a-87b8-121c61afaeba"
      },
      "execution_count": null,
      "outputs": [
        {
          "output_type": "execute_result",
          "data": {
            "text/plain": [
              "1000000"
            ]
          },
          "metadata": {},
          "execution_count": 8
        }
      ]
    },
    {
      "cell_type": "markdown",
      "source": [
        "You can write literals in other bases. Although all these are considered as `int` type."
      ],
      "metadata": {
        "id": "v94x2O2zjPo7"
      }
    },
    {
      "cell_type": "code",
      "source": [
        "print(0b10)\n",
        "print(0o10)\n",
        "print(0x10)"
      ],
      "metadata": {
        "colab": {
          "base_uri": "https://localhost:8080/"
        },
        "id": "ZvAj5e5ti-_x",
        "outputId": "2baf33f4-74d4-4bd7-c629-27b18a362f38"
      },
      "execution_count": null,
      "outputs": [
        {
          "output_type": "stream",
          "name": "stdout",
          "text": [
            "2\n",
            "8\n",
            "16\n"
          ]
        }
      ]
    },
    {
      "cell_type": "markdown",
      "source": [
        "`is_integer()` returns `True` if it is an integer."
      ],
      "metadata": {
        "id": "lRiE5mv1khaL"
      }
    },
    {
      "cell_type": "code",
      "source": [
        "print((34).is_integer())\n",
        "print((43.2).is_integer())"
      ],
      "metadata": {
        "colab": {
          "base_uri": "https://localhost:8080/"
        },
        "id": "UoIMcZfajezF",
        "outputId": "231aa749-7348-4225-b753-76c7f4f0999c"
      },
      "execution_count": null,
      "outputs": [
        {
          "output_type": "stream",
          "name": "stdout",
          "text": [
            "True\n",
            "False\n"
          ]
        }
      ]
    },
    {
      "cell_type": "markdown",
      "source": [
        "`.bit_count()` returns the number of 1s in binary representation.\n",
        "\n",
        "`.bit_length()` returns the number of digits you need to represent the number in binary."
      ],
      "metadata": {
        "id": "OE2YYPazk6j6"
      }
    },
    {
      "cell_type": "code",
      "source": [
        "signal = 0b11010110\n",
        "set_bits = signal.bit_count()\n",
        "if set_bits % 2:\n",
        "  print(\"odd parity\")\n",
        "else:\n",
        "  print(\"even parity\")"
      ],
      "metadata": {
        "colab": {
          "base_uri": "https://localhost:8080/"
        },
        "id": "fzQQu9PrkaMy",
        "outputId": "031114cc-12a2-4f19-ed9e-d0d8f7eaa279"
      },
      "execution_count": null,
      "outputs": [
        {
          "output_type": "stream",
          "name": "stdout",
          "text": [
            "odd parity\n"
          ]
        }
      ]
    },
    {
      "cell_type": "markdown",
      "source": [
        "`.from_bytes()` and `.to_bytes()` can help you convert a binary number to integer or vise versa."
      ],
      "metadata": {
        "id": "e0hJhmyvlorL"
      }
    },
    {
      "cell_type": "markdown",
      "source": [
        "In `int()` function you can set the parameter base."
      ],
      "metadata": {
        "id": "2E-absW3mbTm"
      }
    },
    {
      "cell_type": "code",
      "source": [
        "print(int(\"0b10\", base=2))"
      ],
      "metadata": {
        "colab": {
          "base_uri": "https://localhost:8080/"
        },
        "id": "uODhUwFglesu",
        "outputId": "7f4836d9-60e0-4bed-bc7f-a3c3850a3ed6"
      },
      "execution_count": null,
      "outputs": [
        {
          "output_type": "stream",
          "name": "stdout",
          "text": [
            "2\n"
          ]
        }
      ]
    },
    {
      "cell_type": "markdown",
      "source": [
        "You can use `e` or `E` to display a float number using scientific notation."
      ],
      "metadata": {
        "id": "dwAHx0qlnLK-"
      }
    },
    {
      "cell_type": "code",
      "source": [
        "4.2E-2"
      ],
      "metadata": {
        "colab": {
          "base_uri": "https://localhost:8080/"
        },
        "id": "EqYxAr3Zmlb7",
        "outputId": "326acafc-84b8-4ab5-8cc2-44c5d0ce895b"
      },
      "execution_count": null,
      "outputs": [
        {
          "output_type": "execute_result",
          "data": {
            "text/plain": [
              "0.042"
            ]
          },
          "metadata": {},
          "execution_count": 16
        }
      ]
    },
    {
      "cell_type": "markdown",
      "source": [
        "`as_integer_ratio()` returns two integers that their ratios is equall to the float number."
      ],
      "metadata": {
        "id": "Bu1wgTGLoFAu"
      }
    },
    {
      "cell_type": "code",
      "source": [
        "(3.45).as_integer_ratio()"
      ],
      "metadata": {
        "colab": {
          "base_uri": "https://localhost:8080/"
        },
        "id": "g19cJbGunVGh",
        "outputId": "16689ec8-38c8-4d4d-e6e7-46f09c8aebba"
      },
      "execution_count": null,
      "outputs": [
        {
          "output_type": "execute_result",
          "data": {
            "text/plain": [
              "(3884354678607053, 1125899906842624)"
            ]
          },
          "metadata": {},
          "execution_count": 17
        }
      ]
    },
    {
      "cell_type": "markdown",
      "source": [
        "`.hex()` and `fromhex()` helps you to use floats using hexadecimal representation."
      ],
      "metadata": {
        "id": "xGNWDrssos4G"
      }
    },
    {
      "cell_type": "code",
      "source": [
        "print((42.0).hex())\n",
        "print(float.fromhex(\"0x1.5000000000000p+5\"))"
      ],
      "metadata": {
        "colab": {
          "base_uri": "https://localhost:8080/"
        },
        "id": "A_Cr5LbZoUqX",
        "outputId": "29b90493-1b90-4e12-a7ef-83905be89da7"
      },
      "execution_count": null,
      "outputs": [
        {
          "output_type": "stream",
          "name": "stdout",
          "text": [
            "0x1.5000000000000p+5\n",
            "42.0\n"
          ]
        }
      ]
    },
    {
      "cell_type": "markdown",
      "source": [
        "`.conjugate()` method in complex numbers returns the conjugate form."
      ],
      "metadata": {
        "id": "Drk8O8rRp22A"
      }
    },
    {
      "cell_type": "code",
      "source": [
        "(3 + 5j).conjugate()"
      ],
      "metadata": {
        "colab": {
          "base_uri": "https://localhost:8080/"
        },
        "id": "223yCKuio_RH",
        "outputId": "1cc1359e-db69-4036-ff92-9d63abedf0d7"
      },
      "execution_count": null,
      "outputs": [
        {
          "output_type": "execute_result",
          "data": {
            "text/plain": [
              "(3-5j)"
            ]
          },
          "metadata": {},
          "execution_count": 19
        }
      ]
    },
    {
      "cell_type": "markdown",
      "source": [
        "You can pass the real and imaginary parts to `complex()` function to create a complex function. You can also use it to convert a string into complex numbers."
      ],
      "metadata": {
        "id": "IESdJDW6qYyP"
      }
    },
    {
      "cell_type": "code",
      "source": [
        "print(complex(1, 4))\n",
        "print(complex(\"2+4j\"))"
      ],
      "metadata": {
        "colab": {
          "base_uri": "https://localhost:8080/"
        },
        "id": "GxfmRBIVqCi7",
        "outputId": "1eee1489-ad89-4789-eb3a-af2b40b5eb54"
      },
      "execution_count": null,
      "outputs": [
        {
          "output_type": "stream",
          "name": "stdout",
          "text": [
            "(1+4j)\n",
            "(2+4j)\n"
          ]
        }
      ]
    },
    {
      "cell_type": "markdown",
      "source": [
        "Triple-quoted strings are used to write multiple-lined strings. They are mostly used when you want to provide docstrings for your packages, modules and methods."
      ],
      "metadata": {
        "id": "yq6JxfCKrXbS"
      }
    },
    {
      "cell_type": "code",
      "source": [
        "\"\"\"Hey\n",
        "How are you?\"\"\""
      ],
      "metadata": {
        "colab": {
          "base_uri": "https://localhost:8080/",
          "height": 36
        },
        "id": "lvZDxBPTqrdy",
        "outputId": "bd6211f1-ffe7-420c-92a3-308ebf904158"
      },
      "execution_count": null,
      "outputs": [
        {
          "output_type": "execute_result",
          "data": {
            "text/plain": [
              "'Hey\\nHow are you?'"
            ],
            "application/vnd.google.colaboratory.intrinsic+json": {
              "type": "string"
            }
          },
          "metadata": {},
          "execution_count": 21
        }
      ]
    },
    {
      "cell_type": "markdown",
      "source": [
        "You can write raw strings using `r` or `R`. Raw strings ignore escape sequences."
      ],
      "metadata": {
        "id": "92K1HtexCDC7"
      }
    },
    {
      "cell_type": "code",
      "source": [
        "print(r\"Before\\tAfter\")"
      ],
      "metadata": {
        "id": "NaVroscJr124",
        "colab": {
          "base_uri": "https://localhost:8080/"
        },
        "outputId": "a7daa5e3-3a0c-4366-933f-60b4be254972"
      },
      "execution_count": null,
      "outputs": [
        {
          "output_type": "stream",
          "name": "stdout",
          "text": [
            "Before\\tAfter\n"
          ]
        }
      ]
    },
    {
      "cell_type": "markdown",
      "source": [
        "`.capitalize()` capitalizes the first letter and turns the rest to lower case.\n",
        "\n",
        "`.join(iterable)` join the elements of the iterable using a string."
      ],
      "metadata": {
        "id": "83r-hzuhDg4V"
      }
    },
    {
      "cell_type": "code",
      "source": [
        "\" \".join([\"Now\", \"is\", \"the\", \"time.\"])"
      ],
      "metadata": {
        "colab": {
          "base_uri": "https://localhost:8080/",
          "height": 36
        },
        "id": "bCjGfTkpCP-H",
        "outputId": "c8b30b6c-cc21-4e7f-a586-dc3865dcbfe1"
      },
      "execution_count": null,
      "outputs": [
        {
          "output_type": "execute_result",
          "data": {
            "text/plain": [
              "'Now is the time.'"
            ],
            "application/vnd.google.colaboratory.intrinsic+json": {
              "type": "string"
            }
          },
          "metadata": {},
          "execution_count": 2
        }
      ]
    },
    {
      "cell_type": "markdown",
      "source": [
        "`.strip([chars])` trim the string by removing chars from beginning and end."
      ],
      "metadata": {
        "id": "a4EktZ0RERL7"
      }
    },
    {
      "cell_type": "code",
      "source": [
        "\"==Hello===\".strip(\"=\")"
      ],
      "metadata": {
        "colab": {
          "base_uri": "https://localhost:8080/",
          "height": 36
        },
        "id": "8nPhcDhZEM80",
        "outputId": "1582b9b5-5b43-4a56-a5b9-dbd7fd89d644"
      },
      "execution_count": null,
      "outputs": [
        {
          "output_type": "execute_result",
          "data": {
            "text/plain": [
              "'Hello'"
            ],
            "application/vnd.google.colaboratory.intrinsic+json": {
              "type": "string"
            }
          },
          "metadata": {},
          "execution_count": 3
        }
      ]
    },
    {
      "cell_type": "markdown",
      "source": [
        "`.endswith()` returns `True` if it ends with a suffix."
      ],
      "metadata": {
        "id": "fbNk5n_0EnNr"
      }
    },
    {
      "cell_type": "code",
      "source": [
        "filename = \"main.py\"\n",
        "if filename.endswith(\".py\"):\n",
        "  print(\"It's a python file.\")"
      ],
      "metadata": {
        "colab": {
          "base_uri": "https://localhost:8080/"
        },
        "id": "gRZs0mEeEeKc",
        "outputId": "cdbbbd01-da3d-4ebb-e044-da3c4588ce52"
      },
      "execution_count": null,
      "outputs": [
        {
          "output_type": "stream",
          "name": "stdout",
          "text": [
            "It's a python file.\n"
          ]
        }
      ]
    },
    {
      "cell_type": "markdown",
      "source": [
        "`.partition()` and `.rpartition()` can be used to divide the sentence into two parts."
      ],
      "metadata": {
        "id": "2n31oTCEGVus"
      }
    },
    {
      "cell_type": "code",
      "source": [
        "string = \"1-2-3-4-5\"\n",
        "print(string.partition(\"-\"))\n",
        "print(string.rpartition(\"-\"))"
      ],
      "metadata": {
        "colab": {
          "base_uri": "https://localhost:8080/"
        },
        "id": "SqlAkTm6FWEH",
        "outputId": "9d030ef1-085f-48b3-b34d-e11a1d3c9651"
      },
      "execution_count": null,
      "outputs": [
        {
          "output_type": "stream",
          "name": "stdout",
          "text": [
            "('1', '-', '2-3-4-5')\n",
            "('1-2-3-4', '-', '5')\n"
          ]
        }
      ]
    },
    {
      "cell_type": "markdown",
      "source": [
        "`.maketrans()` and `.translate()` are used to cipher a text."
      ],
      "metadata": {
        "id": "BQPY7zGfHOMU"
      }
    },
    {
      "cell_type": "code",
      "source": [
        "def cipher(text):\n",
        "  alphabet = \"abcdefghijklmnopqrstuvwxyz\"\n",
        "  shifted = \"defghijklmnopqrstuvwxyzabc\"\n",
        "  table = str.maketrans(alphabet, shifted)\n",
        "  return text.translate(table)\n",
        "\n",
        "cipher(\"python\")"
      ],
      "metadata": {
        "colab": {
          "base_uri": "https://localhost:8080/",
          "height": 36
        },
        "id": "z5FDmpyAGptj",
        "outputId": "276288f8-a6d5-4b14-c57b-d4597641d26e"
      },
      "execution_count": null,
      "outputs": [
        {
          "output_type": "execute_result",
          "data": {
            "text/plain": [
              "'sbwkrq'"
            ],
            "application/vnd.google.colaboratory.intrinsic+json": {
              "type": "string"
            }
          },
          "metadata": {},
          "execution_count": 6
        }
      ]
    },
    {
      "cell_type": "markdown",
      "source": [
        "You can define `__str__()` to display aa user friendly output."
      ],
      "metadata": {
        "id": "x6DOSKODJTQV"
      }
    },
    {
      "cell_type": "code",
      "source": [
        "class Person:\n",
        "  def __init__(self, name, age):\n",
        "    self.name = name\n",
        "    self.age = age\n",
        "\n",
        "  def __str__(self):\n",
        "    return f\"I am {self.name} and {self.age} years old.\"\n",
        "\n",
        "john = Person(\"Behnaz\", 22)\n",
        "print(john)"
      ],
      "metadata": {
        "colab": {
          "base_uri": "https://localhost:8080/"
        },
        "id": "WJSL7pZnHw6r",
        "outputId": "fbc164aa-0e19-40e4-ad29-b703cb020a3e"
      },
      "execution_count": null,
      "outputs": [
        {
          "output_type": "stream",
          "name": "stdout",
          "text": [
            "I am Behnaz and 22 years old.\n"
          ]
        }
      ]
    },
    {
      "cell_type": "markdown",
      "source": [
        "1. Given a list of numbers, find the sum and average."
      ],
      "metadata": {
        "id": "f1dfsdp1b79G"
      }
    },
    {
      "cell_type": "code",
      "source": [
        "nums = [1, 5, 2, 54, 65, 23]\n",
        "print(f\"Sum: {sum(nums)}\")\n",
        "print(f\"Average: {sum(nums)/len(nums)}\")"
      ],
      "metadata": {
        "id": "laFlB_4kJ0uH",
        "colab": {
          "base_uri": "https://localhost:8080/"
        },
        "outputId": "bb407685-c594-468e-deb5-9701cd434ef3"
      },
      "execution_count": null,
      "outputs": [
        {
          "output_type": "stream",
          "name": "stdout",
          "text": [
            "Sum: 150\n",
            "Average: 25.0\n"
          ]
        }
      ]
    },
    {
      "cell_type": "markdown",
      "source": [
        "2. Create a function to reverse a given string."
      ],
      "metadata": {
        "id": "IIbWhy3ZcTh3"
      }
    },
    {
      "cell_type": "code",
      "source": [
        "def reverse_string(my_string):\n",
        "  return my_string[::-1]\n",
        "\n",
        "reverse_string(\"Hello\")"
      ],
      "metadata": {
        "colab": {
          "base_uri": "https://localhost:8080/",
          "height": 36
        },
        "id": "KFVSFZpVcLaB",
        "outputId": "1d565d56-528a-4127-e8fd-c532c63f5d4f"
      },
      "execution_count": null,
      "outputs": [
        {
          "output_type": "execute_result",
          "data": {
            "text/plain": [
              "'olleH'"
            ],
            "application/vnd.google.colaboratory.intrinsic+json": {
              "type": "string"
            }
          },
          "metadata": {},
          "execution_count": 10
        }
      ]
    },
    {
      "cell_type": "markdown",
      "source": [
        "3. Write a Python program to check if a given string is a\n",
        "pangram (contains all letters of the alphabet)."
      ],
      "metadata": {
        "id": "322JfibpcyIr"
      }
    },
    {
      "cell_type": "code",
      "source": [
        "my_string = \"The quick brown fox jumps over the lazy dog\"\n",
        "letters = [chr(x) for x in range(97, 122)]\n",
        "if all(char in my_string for char in letters):\n",
        "  print(f\"{my_string} is a panagram.\")"
      ],
      "metadata": {
        "colab": {
          "base_uri": "https://localhost:8080/"
        },
        "id": "a3CpZ4Jfcd4F",
        "outputId": "51c3133a-5595-4262-baed-fdc9913e704a"
      },
      "execution_count": null,
      "outputs": [
        {
          "output_type": "stream",
          "name": "stdout",
          "text": [
            "The quick brown fox jumps over the lazy dog is a panagram.\n"
          ]
        }
      ]
    },
    {
      "cell_type": "markdown",
      "source": [
        "4. Create a function to count the number of vowels in a\n",
        "given string."
      ],
      "metadata": {
        "id": "kn8AuNQLeaNm"
      }
    },
    {
      "cell_type": "code",
      "source": [
        "my_string = \"Hello\"\n",
        "vowels = [\"a\", \"e\", \"i\", \"o\", \"u\"]\n",
        "number_of_vowels = 0\n",
        "for i in my_string:\n",
        "  if i in vowels:\n",
        "    number_of_vowels += 1\n",
        "print(number_of_vowels)"
      ],
      "metadata": {
        "colab": {
          "base_uri": "https://localhost:8080/"
        },
        "id": "VSSqeMHedrOg",
        "outputId": "deb562ce-3d5e-4773-fe20-66de265c1609"
      },
      "execution_count": null,
      "outputs": [
        {
          "output_type": "stream",
          "name": "stdout",
          "text": [
            "2\n"
          ]
        }
      ]
    },
    {
      "cell_type": "markdown",
      "source": [
        "5. Write a program to check if a number is prime."
      ],
      "metadata": {
        "id": "N7T9H7EXe-LP"
      }
    },
    {
      "cell_type": "code",
      "source": [
        "num = 45\n",
        "def is_prime(num):\n",
        "  is_prime = False\n",
        "  for i in range(2, num//2):\n",
        "    if num % i == 0:\n",
        "      is_prime = True\n",
        "  return is_prime\n",
        "is_prime(45)"
      ],
      "metadata": {
        "colab": {
          "base_uri": "https://localhost:8080/"
        },
        "id": "WGPfhYlxe5yx",
        "outputId": "1de0863f-9d21-4a1c-95c3-a29f30308f03"
      },
      "execution_count": null,
      "outputs": [
        {
          "output_type": "execute_result",
          "data": {
            "text/plain": [
              "True"
            ]
          },
          "metadata": {},
          "execution_count": 16
        }
      ]
    },
    {
      "cell_type": "code",
      "source": [],
      "metadata": {
        "id": "A8TdRemgfX82"
      },
      "execution_count": null,
      "outputs": []
    }
  ]
}